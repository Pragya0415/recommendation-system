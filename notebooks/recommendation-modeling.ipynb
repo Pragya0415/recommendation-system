{
 "cells": [
  {
   "cell_type": "markdown",
   "id": "dc0ac49e-ece9-40f9-95bc-7b8acd44442e",
   "metadata": {},
   "source": [
    "# Product Recommendation System\n",
    "This project builds a personalized product recommender using collaborative filtering (SVD).Based on user transactions, the system suggests items each user is likely to be interested in. Ideal for e-commerce platforms looking to boost engagement and sales through data-driven personalization."
   ]
  },
  {
   "cell_type": "markdown",
   "id": "57cef247-229a-4163-aa1c-050630eca270",
   "metadata": {},
   "source": [
    "## Dataset Description\n",
    "The dataset 'events.csv' contains user-item interaction data with the following key columns.\n",
    "- visitorid: Unique identifier for users.\n",
    "- itemid: Unique identifier for items.\n",
    "- event: Type of interaction (e.g., transaction)"
   ]
  },
  {
   "cell_type": "code",
   "execution_count": 24,
   "id": "e3625e9a-5d64-455b-8d4d-735c9258001f",
   "metadata": {},
   "outputs": [],
   "source": [
    "# Importing necessary libraries\n",
    "import pandas as pd\n",
    "import numpy as np\n",
    "import matplotlib.pyplot as plt\n",
    "import seaborn as sns\n",
    "from sklearn.metrics.pairwise import cosine_similarity\n",
    "from sklearn.metrics import mean_squared_error\n",
    "from scipy.sparse import csr_matrix\n",
    "from surprise import Dataset, Reader, SVD\n",
    "from surprise.model_selection import train_test_split\n",
    "from surprise import accuracy\n",
    "from collections import defaultdict\n",
    "\n",
    "# General settings\n",
    "pd.set_option('display.max_columns', None)\n",
    "sns.set(style=\"whitegrid\")"
   ]
  },
  {
   "cell_type": "markdown",
   "id": "f8f7e8f3-8a94-43af-9e08-d1f62eecc4d7",
   "metadata": {},
   "source": [
    "### Data Preperation"
   ]
  },
  {
   "cell_type": "code",
   "execution_count": 33,
   "id": "5dd88b55-7893-4556-ac6b-91169c6f479b",
   "metadata": {},
   "outputs": [],
   "source": [
    "# Load and filter transaction data\n",
    "df = pd.read_csv('../data/events.csv')\n",
    "df_tx = df[df['event'] == 'transaction'][['visitorid', 'itemid']]\n",
    "df_tx.columns = ['user_id', 'item_id']\n",
    "df_tx['rating'] = 1  # Treat each transaction as implicit positive rating\n",
    "\n",
    "# Handle data sparsity: Filter users and items with sufficient interactions\n",
    "min_user_interactions = 5\n",
    "min_item_interactions = 5\n",
    "user_counts = df_tx['user_id'].value_counts()\n",
    "item_counts = df_tx['item_id'].value_counts()\n",
    "df_tx = df_tx[df_tx['user_id'].isin(user_counts[user_counts >= min_user_interactions].index)]\n",
    "df_tx = df_tx[df_tx['item_id'].isin(item_counts[item_counts >= min_item_interactions].index)]\n",
    "\n",
    "# Prepare Surprise dataset\n",
    "reader = Reader(rating_scale=(1, 1))\n",
    "data = Dataset.load_from_df(df_tx[['user_id', 'item_id', 'rating']], reader)"
   ]
  },
  {
   "cell_type": "markdown",
   "id": "b7a9b6a0-d436-42da-bf93-ee8f211d882c",
   "metadata": {},
   "source": [
    "### Training and Evaluating SVD Model"
   ]
  },
  {
   "cell_type": "code",
   "execution_count": 46,
   "id": "19f05d0b-f67b-4441-aa11-ab08c2a39785",
   "metadata": {},
   "outputs": [
    {
     "name": "stdout",
     "output_type": "stream",
     "text": [
      "RMSE: 0.0000\n",
      "Precision@5: 1.000, Recall@5: 0.956\n"
     ]
    }
   ],
   "source": [
    "# Split data and train SVD model\n",
    "trainset, testset = train_test_split(data, test_size=0.2, random_state=42)\n",
    "svd = SVD()\n",
    "svd.fit(trainset)\n",
    "predictions = svd.test(testset)\n",
    "\n",
    "#Evaluate with RMSE\n",
    "rmse = accuracy.rmse(predictions)\n",
    "\n",
    "# Compute precision@k and recall@k\n",
    "def precision_recall_at_k(predictions, k=5, threshold=0.5):\n",
    "    user_est_true = defaultdict(list)\n",
    "    for uid, _, true_r, est, _ in predictions:\n",
    "        user_est_true[uid].append((est, true_r))\n",
    "    \n",
    "    precisions = []\n",
    "    recalls = []\n",
    "    for uid, user_ratings in user_est_true.items():\n",
    "        user_ratings.sort(key=lambda x: x[0], reverse=True)\n",
    "        n_rel = sum((true_r >= threshold) for _, true_r in user_ratings)\n",
    "        n_rec_k = sum((est >= threshold) for est, _ in user_ratings[:k])\n",
    "        n_rel_and_rec_k = sum((true_r >= threshold and est >= threshold) for est, true_r in user_ratings[:k])\n",
    "        precisions.append(n_rel_and_rec_k / n_rec_k if n_rec_k != 0 else 0)\n",
    "        recalls.append(n_rel_and_rec_k / n_rel if n_rel != 0 else 0)\n",
    "    \n",
    "    return np.mean(precisions), np.mean(recalls) \n",
    "\n",
    "# Calculate and display precision and recall\n",
    "precision, recall = precision_recall_at_k(predictions, k=5, threshold=0.5)\n",
    "print(f\"Precision@5: {precision:.3f}, Recall@5: {recall:.3f}\")"
   ]
  },
  {
   "cell_type": "markdown",
   "id": "daeb488e-f2cc-4ca8-b0f4-491dce0dcb43",
   "metadata": {},
   "source": [
    "### Generating Top-N Product Recommendations"
   ]
  },
  {
   "cell_type": "code",
   "execution_count": 28,
   "id": "bce5a577-ea36-46ac-acdf-d78cd37cfb1c",
   "metadata": {},
   "outputs": [],
   "source": [
    "# Map predictions to each user\n",
    "def get_top_n(predictions, n=5):\n",
    "    top_n = defaultdict(list)\n",
    "    for uid, iid, true_r, est, _ in predictions:\n",
    "        top_n[uid].append((iid, est))\n",
    "    for uid, user_ratings in top_n.items():\n",
    "        user_ratings.sort(key=lambda x: x[1], reverse=True)\n",
    "        top_n[uid] = user_ratings[:n]\n",
    "    return top_n\n",
    "\n",
    "top_n = get_top_n(predictions, n=5)"
   ]
  },
  {
   "cell_type": "markdown",
   "id": "80721742-485d-4f8d-8b2e-1cac475ea844",
   "metadata": {},
   "source": [
    "### Viewing Sample Recommendations"
   ]
  },
  {
   "cell_type": "code",
   "execution_count": 18,
   "id": "03b9229c-1283-4ebb-b0f1-ab3c5ecb99f8",
   "metadata": {},
   "outputs": [
    {
     "name": "stdout",
     "output_type": "stream",
     "text": [
      "\n",
      "Recommended products for User 261325:\n",
      "  → Product 217605 | Predicted Preference: 1\n",
      "\n",
      "Recommended products for User 466290:\n",
      "  → Product 186935 | Predicted Preference: 1\n",
      "\n",
      "Recommended products for User 146643:\n",
      "  → Product 170021 | Predicted Preference: 1\n",
      "\n",
      "Recommended products for User 1243262:\n",
      "  → Product 260900 | Predicted Preference: 1\n",
      "  → Product 290003 | Predicted Preference: 1\n",
      "  → Product 258901 | Predicted Preference: 1\n",
      "\n",
      "Recommended products for User 647026:\n",
      "  → Product 384647 | Predicted Preference: 1\n"
     ]
    }
   ],
   "source": [
    "# Show sample recommendations for first few users\n",
    "for user_id, user_ratings in list(top_n.items())[:5]:\n",
    "    print(f\"\\nRecommended products for User {user_id}:\")\n",
    "    for item_id, score in user_ratings:\n",
    "        print(f\"  → Product {item_id} | Predicted Preference: {round(score, 3)}\")"
   ]
  },
  {
   "cell_type": "markdown",
   "id": "800c23cb-51d3-491a-bcb9-50edbe50d806",
   "metadata": {},
   "source": [
    "##### Using the trained SVD model, we generated top-N recommendations for each user based on predicted preference scores. Each recommendation is personalized, different users get different products depending on their past interactions."
   ]
  },
  {
   "cell_type": "markdown",
   "id": "694f259e-6054-44f3-a60a-96ba9f06f880",
   "metadata": {},
   "source": [
    "### Saving Recommendations to DataFrame"
   ]
  },
  {
   "cell_type": "code",
   "execution_count": 29,
   "id": "22d5735d-bd48-4b32-b908-fc8ff4e3628b",
   "metadata": {},
   "outputs": [],
   "source": [
    "# Convert top_n dict into a list of records\n",
    "recommendation_list = []\n",
    "\n",
    "for user_id, user_ratings in top_n.items():\n",
    "    for item_id, score in user_ratings:\n",
    "        recommendation_list.append({\n",
    "            'user_id': user_id,\n",
    "            'recommended_item_id': item_id,\n",
    "            'predicted_score': round(score, 3)\n",
    "        })\n",
    "\n",
    "# Create DataFrame\n",
    "recommendation_df = pd.DataFrame(recommendation_list)\n",
    "\n",
    "recommendation_df.to_csv('../data/user_recommendations.csv', index=False)"
   ]
  },
  {
   "cell_type": "markdown",
   "id": "ce80b802-d5df-4c05-b863-a1c84a62def5",
   "metadata": {},
   "source": [
    "### Visualizing Most Recommended Products"
   ]
  },
  {
   "cell_type": "code",
   "execution_count": 30,
   "id": "ddda2ff5-3829-4a0a-b7d9-31e91551d8d2",
   "metadata": {},
   "outputs": [
    {
     "data": {
      "image/png": "[encoded data removed]",
      "text/plain": [
       "<Figure size 1000x500 with 1 Axes>"
      ]
     },
     "metadata": {},
     "output_type": "display_data"
    }
   ],
   "source": [
    "top_items = recommendation_df['recommended_item_id'].value_counts().head(10)\n",
    "plt.figure(figsize=(10, 5))\n",
    "sns.barplot(x=top_items.values, y=top_items.index, hue=top_items.index, palette='viridis', legend=False)\n",
    "plt.title('Top 10 Most Recommended Products')\n",
    "plt.xlabel('Number of Times Recommended')\n",
    "plt.ylabel('Product ID')\n",
    "plt.tight_layout()\n",
    "plt.savefig('../visuals/most_recommended_products.png')\n",
    "plt.show()"
   ]
  },
  {
   "cell_type": "markdown",
   "id": "08e2c0f6-9578-45e0-95fa-2f5769f2fea6",
   "metadata": {},
   "source": [
    "##### This bar chart shows which products were recommended most often across users. These items likely have strong collaborative signals, meaning many users interacted with them, or similar items. This helps businesses identify popular products for upselling or promotional campaigns."
   ]
  },
  {
   "cell_type": "markdown",
   "id": "0b637749-1aa9-48ce-b688-bad008a3d0ba",
   "metadata": {},
   "source": [
    "### Visualizing Distribution of Predicted Scores"
   ]
  },
  {
   "cell_type": "code",
   "execution_count": 31,
   "id": "1629ca86-8264-4559-b1c8-b15cb960da31",
   "metadata": {},
   "outputs": [
    {
     "data": {
      "image/png": "[encoded data removed]",
      "text/plain": [
       "<Figure size 800x500 with 1 Axes>"
      ]
     },
     "metadata": {},
     "output_type": "display_data"
    }
   ],
   "source": [
    "plt.figure(figsize=(8, 5))\n",
    "sns.histplot(data=recommendation_df, x='predicted_score', bins=20, kde=True, color='skyblue')\n",
    "plt.title('Distribution of Predicted Recommendation Scores')\n",
    "plt.xlabel('Predicted Score')\n",
    "plt.tight_layout()\n",
    "plt.savefig('../visuals/recommendation_score_distribution.png')\n",
    "plt.show()"
   ]
  },
  {
   "cell_type": "markdown",
   "id": "f484ead9-2476-41be-b3c4-028ff2e46b0b",
   "metadata": {},
   "source": [
    "##### This histogram shows how predicted recommendation scores are distributed across users and items."
   ]
  },
  {
   "cell_type": "markdown",
   "id": "5851a9bf-e352-4457-9192-3c3a9c1dcf4c",
   "metadata": {},
   "source": [
    "### Conclusion\n",
    "This project built a collaborative filtering recommendation system using transaction data.\n",
    "Key outputs:\n",
    "- RMSE evaluation of the SVD model\n",
    "- Top-N recommendations per user\n",
    "- Visual insights on recommendation score distribution"
   ]
  }
 ],
 "metadata": {
  "kernelspec": {
   "display_name": "Python 3 (ipykernel)",
   "language": "python",
   "name": "python3"
  },
  "language_info": {
   "codemirror_mode": {
    "name": "ipython",
    "version": 3
   },
   "file_extension": ".py",
   "mimetype": "text/x-python",
   "name": "python",
   "nbconvert_exporter": "python",
   "pygments_lexer": "ipython3",
   "version": "3.11.11"
  }
 },
 "nbformat": 4,
 "nbformat_minor": 5
}
